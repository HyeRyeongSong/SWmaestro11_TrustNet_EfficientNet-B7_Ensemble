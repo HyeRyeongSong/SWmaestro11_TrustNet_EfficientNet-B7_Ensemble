{
 "cells": [
  {
   "cell_type": "code",
   "execution_count": 1,
   "metadata": {},
   "outputs": [],
   "source": [
    "import pickle\n",
    "\n",
    "\n",
    "with open('detections.pkl', 'rb') as f:\n",
    "    data = pickle.load(f)"
   ]
  },
  {
   "cell_type": "code",
   "execution_count": 2,
   "metadata": {},
   "outputs": [
    {
     "data": {
      "text/plain": [
       "[{'boxes': array([[769.2059 , 243.74326, 983.40625, 561.74994]], dtype=float32),\n",
       "  'scores': array([0.9979893], dtype=float32)},\n",
       " {'boxes': array([[764.5491 , 241.14725, 981.3524 , 551.5015 ]], dtype=float32),\n",
       "  'scores': array([0.9966092], dtype=float32)},\n",
       " {'boxes': array([[762.70404, 238.03546, 979.8947 , 551.32446]], dtype=float32),\n",
       "  'scores': array([0.997543], dtype=float32)},\n",
       " {'boxes': array([[769.5734 , 243.77205, 987.13837, 543.648  ]], dtype=float32),\n",
       "  'scores': array([0.9968526], dtype=float32)},\n",
       " {'boxes': array([[ 788.14233,  235.77008, 1007.1244 ,  540.61804]], dtype=float32),\n",
       "  'scores': array([0.995379], dtype=float32)},\n",
       " {'boxes': array([[ 799.50793,  238.62122, 1015.687  ,  549.3498 ]], dtype=float32),\n",
       "  'scores': array([0.9974269], dtype=float32)},\n",
       " {'boxes': array([[786.9363 , 233.41922, 998.2339 , 550.07117]], dtype=float32),\n",
       "  'scores': array([0.9979767], dtype=float32)},\n",
       " {'boxes': array([[769.50604, 228.38278, 980.9369 , 541.0621 ]], dtype=float32),\n",
       "  'scores': array([0.99722594], dtype=float32)},\n",
       " {'boxes': array([[755.313  , 225.76292, 972.9474 , 549.5588 ]], dtype=float32),\n",
       "  'scores': array([0.99887854], dtype=float32)},\n",
       " {'boxes': array([[748.08307, 220.89636, 962.74713, 563.38416]], dtype=float32),\n",
       "  'scores': array([0.9995252], dtype=float32)},\n",
       " {'boxes': array([[756.6549 , 226.20506, 975.871  , 528.87683]], dtype=float32),\n",
       "  'scores': array([0.99663603], dtype=float32)},\n",
       " {'boxes': array([[776.4119 , 224.38098, 985.99994, 542.78735]], dtype=float32),\n",
       "  'scores': array([0.99820423], dtype=float32)},\n",
       " {'boxes': array([[ 799.04395,  252.89294, 1017.0781 ,  557.24146]], dtype=float32),\n",
       "  'scores': array([0.9947266], dtype=float32)},\n",
       " {'boxes': array([[ 817.7367,  252.6927, 1029.1216,  561.4944]], dtype=float32),\n",
       "  'scores': array([0.9947412], dtype=float32)},\n",
       " {'boxes': array([[ 823.94904,  242.73808, 1039.8833 ,  545.62427]], dtype=float32),\n",
       "  'scores': array([0.99629503], dtype=float32)},\n",
       " {'boxes': array([[ 812.0382 ,  246.38583, 1028.7125 ,  552.908  ]], dtype=float32),\n",
       "  'scores': array([0.9972862], dtype=float32)},\n",
       " {'boxes': array([[ 799.5824 ,  252.99294, 1021.54205,  556.197  ]], dtype=float32),\n",
       "  'scores': array([0.99608564], dtype=float32)},\n",
       " {'boxes': array([[ 793.42847,  243.23634, 1008.4415 ,  550.10815]], dtype=float32),\n",
       "  'scores': array([0.9951142], dtype=float32)},\n",
       " {'boxes': array([[ 784.8333 ,  253.42867, 1002.2784 ,  559.35675]], dtype=float32),\n",
       "  'scores': array([0.9952975], dtype=float32)},\n",
       " {'boxes': array([[ 782.32416,  247.49823, 1002.87885,  551.5917 ]], dtype=float32),\n",
       "  'scores': array([0.9948042], dtype=float32)},\n",
       " {'boxes': array([[781.34204, 255.59978, 999.5592 , 559.3573 ]], dtype=float32),\n",
       "  'scores': array([0.9961681], dtype=float32)},\n",
       " {'boxes': array([[771.48596, 255.58658, 985.41235, 554.5122 ]], dtype=float32),\n",
       "  'scores': array([0.99848384], dtype=float32)},\n",
       " {'boxes': array([[763.3333 , 253.07384, 977.9963 , 555.6275 ]], dtype=float32),\n",
       "  'scores': array([0.9982559], dtype=float32)},\n",
       " {'boxes': array([[761.56274, 249.50714, 978.74115, 536.56476]], dtype=float32),\n",
       "  'scores': array([0.9993105], dtype=float32)},\n",
       " {'boxes': array([[772.73065, 233.25822, 986.74426, 545.81134]], dtype=float32),\n",
       "  'scores': array([0.9976019], dtype=float32)},\n",
       " {'boxes': array([[766.5572 , 229.54181, 985.5738 , 539.0456 ]], dtype=float32),\n",
       "  'scores': array([0.9983309], dtype=float32)},\n",
       " {'boxes': array([[755.4711 , 227.09178, 983.12024, 540.7166 ]], dtype=float32),\n",
       "  'scores': array([0.99940443], dtype=float32)},\n",
       " {'boxes': array([[760.3553 , 221.72858, 986.4394 , 551.0652 ]], dtype=float32),\n",
       "  'scores': array([0.99964476], dtype=float32)},\n",
       " {'boxes': array([[775.8073 , 222.98158, 997.8196 , 546.9508 ]], dtype=float32),\n",
       "  'scores': array([0.99949515], dtype=float32)},\n",
       " {'boxes': array([[ 782.7867 ,  229.03984, 1005.9315 ,  547.3988 ]], dtype=float32),\n",
       "  'scores': array([0.99891114], dtype=float32)},\n",
       " {'boxes': array([[ 784.14545,  226.82474, 1007.4477 ,  538.1163 ]], dtype=float32),\n",
       "  'scores': array([0.99776626], dtype=float32)},\n",
       " {'boxes': array([[780.8747 , 232.77463, 998.82184, 551.4026 ]], dtype=float32),\n",
       "  'scores': array([0.99869967], dtype=float32)},\n",
       " {'boxes': array([[772.54767, 234.9789 , 992.273  , 541.36066]], dtype=float32),\n",
       "  'scores': array([0.9972767], dtype=float32)},\n",
       " {'boxes': array([[762.62976, 236.07555, 981.9124 , 547.9071 ]], dtype=float32),\n",
       "  'scores': array([0.99795204], dtype=float32)},\n",
       " {'boxes': array([[745.09186, 233.62854, 968.0837 , 539.51733]], dtype=float32),\n",
       "  'scores': array([0.99789655], dtype=float32)},\n",
       " {'boxes': array([[737.0118 , 230.26328, 960.4473 , 544.89044]], dtype=float32),\n",
       "  'scores': array([0.99922943], dtype=float32)},\n",
       " {'boxes': array([[734.0455 , 230.08728, 957.1622 , 544.94745]], dtype=float32),\n",
       "  'scores': array([0.9992047], dtype=float32)},\n",
       " {'boxes': array([[740.7389 , 230.70767, 962.277  , 538.2011 ]], dtype=float32),\n",
       "  'scores': array([0.9984035], dtype=float32)},\n",
       " {'boxes': array([[748.8323 , 229.06427, 968.2085 , 559.388  ]], dtype=float32),\n",
       "  'scores': array([0.9989912], dtype=float32)},\n",
       " {'boxes': array([[761.3131 , 233.44661, 979.52466, 552.03644]], dtype=float32),\n",
       "  'scores': array([0.99827933], dtype=float32)},\n",
       " {'boxes': array([[780.8883 , 235.08551, 995.23663, 550.21106]], dtype=float32),\n",
       "  'scores': array([0.9984407], dtype=float32)},\n",
       " {'boxes': array([[ 789.07263,  234.53908, 1007.5056 ,  543.60474]], dtype=float32),\n",
       "  'scores': array([0.9968412], dtype=float32)},\n",
       " {'boxes': array([[ 795.71954,  242.55592, 1014.2434 ,  561.13385]], dtype=float32),\n",
       "  'scores': array([0.9984174], dtype=float32)},\n",
       " {'boxes': array([[ 800.8645 ,  231.71577, 1016.4356 ,  551.74786]], dtype=float32),\n",
       "  'scores': array([0.9985581], dtype=float32)},\n",
       " {'boxes': array([[ 806.5097 ,  228.05823, 1024.8916 ,  521.18243]], dtype=float32),\n",
       "  'scores': array([0.9958419], dtype=float32)},\n",
       " {'boxes': array([[ 797.761  ,  225.01016, 1016.57587,  526.7926 ]], dtype=float32),\n",
       "  'scores': array([0.9967326], dtype=float32)},\n",
       " {'boxes': array([[781.1411 , 218.37456, 998.64746, 527.5777 ]], dtype=float32),\n",
       "  'scores': array([0.9969055], dtype=float32)},\n",
       " {'boxes': array([[771.53143, 228.6539 , 990.8182 , 529.5134 ]], dtype=float32),\n",
       "  'scores': array([0.9967417], dtype=float32)},\n",
       " {'boxes': array([[773.8357 , 235.08974, 997.0175 , 536.3879 ]], dtype=float32),\n",
       "  'scores': array([0.9957917], dtype=float32)},\n",
       " {'boxes': array([[776.6316 , 236.46527, 998.3295 , 529.2706 ]], dtype=float32),\n",
       "  'scores': array([0.99833715], dtype=float32)}]"
      ]
     },
     "execution_count": 2,
     "metadata": {},
     "output_type": "execute_result"
    }
   ],
   "source": [
    "data"
   ]
  },
  {
   "cell_type": "code",
   "execution_count": 5,
   "metadata": {},
   "outputs": [
    {
     "data": {
      "text/plain": [
       "list"
      ]
     },
     "execution_count": 5,
     "metadata": {},
     "output_type": "execute_result"
    }
   ],
   "source": [
    "type(data)"
   ]
  },
  {
   "cell_type": "code",
   "execution_count": 6,
   "metadata": {},
   "outputs": [
    {
     "data": {
      "text/plain": [
       "dict"
      ]
     },
     "execution_count": 6,
     "metadata": {},
     "output_type": "execute_result"
    }
   ],
   "source": [
    "type(data[0])"
   ]
  },
  {
   "cell_type": "code",
   "execution_count": null,
   "metadata": {},
   "outputs": [],
   "source": []
  }
 ],
 "metadata": {
  "kernelspec": {
   "display_name": "Environment (conda_pytorch_p36)",
   "language": "python",
   "name": "conda_pytorch_p36"
  },
  "language_info": {
   "codemirror_mode": {
    "name": "ipython",
    "version": 3
   },
   "file_extension": ".py",
   "mimetype": "text/x-python",
   "name": "python",
   "nbconvert_exporter": "python",
   "pygments_lexer": "ipython3",
   "version": "3.6.5"
  }
 },
 "nbformat": 4,
 "nbformat_minor": 2
}
